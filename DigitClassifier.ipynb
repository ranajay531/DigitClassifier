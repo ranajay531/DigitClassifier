{
  "nbformat": 4,
  "nbformat_minor": 0,
  "metadata": {
    "colab": {
      "provenance": [],
      "gpuType": "T4",
      "authorship_tag": "ABX9TyNj3rMEzxfIE6jvCIKeTdZ4",
      "include_colab_link": true
    },
    "kernelspec": {
      "name": "python3",
      "display_name": "Python 3"
    },
    "language_info": {
      "name": "python"
    },
    "accelerator": "GPU"
  },
  "cells": [
    {
      "cell_type": "markdown",
      "metadata": {
        "id": "view-in-github",
        "colab_type": "text"
      },
      "source": [
        "<a href=\"https://colab.research.google.com/github/ranajay531/DigitClassifier/blob/main/DigitClassifier.ipynb\" target=\"_parent\"><img src=\"https://colab.research.google.com/assets/colab-badge.svg\" alt=\"Open In Colab\"/></a>"
      ]
    },
    {
      "cell_type": "code",
      "execution_count": 49,
      "metadata": {
        "id": "fJZrgO123izL",
        "colab": {
          "base_uri": "https://localhost:8080/"
        },
        "outputId": "021358db-fdea-4e4d-c7ef-235bbf98ba67"
      },
      "outputs": [
        {
          "output_type": "stream",
          "name": "stdout",
          "text": [
            "Drive already mounted at /content/drive; to attempt to forcibly remount, call drive.mount(\"/content/drive\", force_remount=True).\n"
          ]
        }
      ],
      "source": [
        "# Import libraries\n",
        "import pandas as pd\n",
        "import numpy as np\n",
        "import matplotlib.pyplot as plt\n",
        "import seaborn as sns\n",
        "\n",
        "import tensorflow as tf\n",
        "from tensorflow import keras\n",
        "from keras import Input\n",
        "from keras.models import Sequential\n",
        "from keras.layers import Dense, Flatten, Conv2D, AveragePooling2D\n",
        "import cv2\n",
        "\n",
        "from google.colab import drive\n",
        "drive.mount('/content/drive')"
      ]
    },
    {
      "cell_type": "code",
      "source": [
        "# Importing dataset\n",
        "training_data, testing_data = keras.datasets.mnist.load_data()\n",
        "\n",
        "# Checking data shapes\n",
        "print(f'Training Data Shape: {training_data[0].shape}')\n",
        "print(f'Testing Data Shape: {testing_data[0].shape}')"
      ],
      "metadata": {
        "id": "_8_25YYg5I1f",
        "colab": {
          "base_uri": "https://localhost:8080/"
        },
        "outputId": "010036a7-5768-4664-b34c-197c8aa350c3"
      },
      "execution_count": 50,
      "outputs": [
        {
          "output_type": "stream",
          "name": "stdout",
          "text": [
            "Training Data Shape: (60000, 28, 28)\n",
            "Testing Data Shape: (10000, 28, 28)\n"
          ]
        }
      ]
    },
    {
      "cell_type": "code",
      "source": [
        "# Viewing random image\n",
        "random_index = np.random.randint(low=0,high=training_data[0].shape[0],size=1,dtype=int) # Getting a random index\n",
        "random_example = np.squeeze(training_data[0][random_index],axis=0) # Getting the random example\n",
        "\n",
        "# Plotting the image\n",
        "plt.imshow(random_example)\n",
        "print(f'Image Label: {training_data[1][random_index][0]}')\n",
        "plt.show()"
      ],
      "metadata": {
        "colab": {
          "base_uri": "https://localhost:8080/",
          "height": 448
        },
        "id": "1GmTIh4b5OnO",
        "outputId": "439ace75-0aa8-48ab-daeb-2718797619a7"
      },
      "execution_count": 51,
      "outputs": [
        {
          "output_type": "stream",
          "name": "stdout",
          "text": [
            "Image Label: 2\n"
          ]
        },
        {
          "output_type": "display_data",
          "data": {
            "text/plain": [
              "<Figure size 640x480 with 1 Axes>"
            ],
            "image/png": "[encoded data removed]"
          },
          "metadata": {}
        }
      ]
    },
    {
      "cell_type": "code",
      "source": [
        "train_x = training_data[0] / 255.0\n",
        "train_y = training_data[1]\n",
        "\n",
        "test_x = testing_data[0] / 255.0\n",
        "test_y = testing_data[1]"
      ],
      "metadata": {
        "id": "b5MYOO8S6fdi"
      },
      "execution_count": 52,
      "outputs": []
    },
    {
      "cell_type": "code",
      "source": [
        "train_y = keras.utils.to_categorical(train_y,num_classes=10)\n",
        "test_y = keras.utils.to_categorical(test_y,num_classes=10)"
      ],
      "metadata": {
        "id": "eB1tc2Zn62p1"
      },
      "execution_count": 53,
      "outputs": []
    },
    {
      "cell_type": "code",
      "source": [
        "# Building the model\n",
        "model = Sequential()\n",
        "\n",
        "model.add(Input(shape=(28,28,1)))\n",
        "model.add(Conv2D(32,kernel_size=3,activation='relu'))\n",
        "model.add(AveragePooling2D(pool_size=2))\n",
        "model.add(Conv2D(64,kernel_size=3,activation='relu'))\n",
        "model.add(AveragePooling2D(pool_size=2))\n",
        "model.add(Flatten())\n",
        "model.add(Dense(10,activation='softmax'))"
      ],
      "metadata": {
        "id": "9v2fO0DL7l7I"
      },
      "execution_count": 54,
      "outputs": []
    },
    {
      "cell_type": "code",
      "source": [
        "model.summary()"
      ],
      "metadata": {
        "colab": {
          "base_uri": "https://localhost:8080/"
        },
        "id": "2Js0w-x2LWIE",
        "outputId": "d18db87e-f335-4601-eb4d-33b8ade421a9"
      },
      "execution_count": 55,
      "outputs": [
        {
          "output_type": "stream",
          "name": "stdout",
          "text": [
            "Model: \"sequential_3\"\n",
            "_________________________________________________________________\n",
            " Layer (type)                Output Shape              Param #   \n",
            "=================================================================\n",
            " conv2d_6 (Conv2D)           (None, 26, 26, 32)        320       \n",
            "                                                                 \n",
            " average_pooling2d_6 (Avera  (None, 13, 13, 32)        0         \n",
            " gePooling2D)                                                    \n",
            "                                                                 \n",
            " conv2d_7 (Conv2D)           (None, 11, 11, 64)        18496     \n",
            "                                                                 \n",
            " average_pooling2d_7 (Avera  (None, 5, 5, 64)          0         \n",
            " gePooling2D)                                                    \n",
            "                                                                 \n",
            " flatten_3 (Flatten)         (None, 1600)              0         \n",
            "                                                                 \n",
            " dense_3 (Dense)             (None, 10)                16010     \n",
            "                                                                 \n",
            "=================================================================\n",
            "Total params: 34826 (136.04 KB)\n",
            "Trainable params: 34826 (136.04 KB)\n",
            "Non-trainable params: 0 (0.00 Byte)\n",
            "_________________________________________________________________\n"
          ]
        }
      ]
    },
    {
      "cell_type": "code",
      "source": [
        "loss_function = 'categorical_crossentropy'\n",
        "optimizer = keras.optimizers.SGD(learning_rate=0.005)\n",
        "metrics = ['accuracy']\n",
        "model.compile(optimizer=optimizer,loss=loss_function,metrics=metrics)"
      ],
      "metadata": {
        "id": "dLeZRGaKLZCG"
      },
      "execution_count": 56,
      "outputs": []
    },
    {
      "cell_type": "code",
      "source": [
        "train_x = np.expand_dims(train_x,axis=3)\n",
        "train_x.shape"
      ],
      "metadata": {
        "colab": {
          "base_uri": "https://localhost:8080/"
        },
        "id": "1ukosrLKLl3i",
        "outputId": "7fdc96e9-9b9c-49f7-9ffc-81de938bee48"
      },
      "execution_count": 57,
      "outputs": [
        {
          "output_type": "execute_result",
          "data": {
            "text/plain": [
              "(60000, 28, 28, 1)"
            ]
          },
          "metadata": {},
          "execution_count": 57
        }
      ]
    },
    {
      "cell_type": "code",
      "source": [
        "history = model.fit(x=train_x,y=train_y,batch_size=32,epochs=20,shuffle=True)\n"
      ],
      "metadata": {
        "colab": {
          "base_uri": "https://localhost:8080/"
        },
        "id": "F_0iEszoLzBu",
        "outputId": "d4b70b4d-5bf8-4da4-e85b-5bc3ae6d0a85"
      },
      "execution_count": 58,
      "outputs": [
        {
          "output_type": "stream",
          "name": "stdout",
          "text": [
            "Epoch 1/20\n",
            "1875/1875 [==============================] - 8s 4ms/step - loss: 1.0047 - accuracy: 0.7375\n",
            "Epoch 2/20\n",
            "1875/1875 [==============================] - 6s 3ms/step - loss: 0.3794 - accuracy: 0.8887\n",
            "Epoch 3/20\n",
            "1875/1875 [==============================] - 7s 4ms/step - loss: 0.3307 - accuracy: 0.9035\n",
            "Epoch 4/20\n",
            "1875/1875 [==============================] - 8s 4ms/step - loss: 0.2842 - accuracy: 0.9177\n",
            "Epoch 5/20\n",
            "1875/1875 [==============================] - 8s 4ms/step - loss: 0.2405 - accuracy: 0.9316\n",
            "Epoch 6/20\n",
            "1875/1875 [==============================] - 6s 3ms/step - loss: 0.2042 - accuracy: 0.9415\n",
            "Epoch 7/20\n",
            "1875/1875 [==============================] - 7s 4ms/step - loss: 0.1772 - accuracy: 0.9494\n",
            "Epoch 8/20\n",
            "1875/1875 [==============================] - 6s 3ms/step - loss: 0.1562 - accuracy: 0.9555\n",
            "Epoch 9/20\n",
            "1875/1875 [==============================] - 8s 4ms/step - loss: 0.1410 - accuracy: 0.9601\n",
            "Epoch 10/20\n",
            "1875/1875 [==============================] - 6s 3ms/step - loss: 0.1293 - accuracy: 0.9630\n",
            "Epoch 11/20\n",
            "1875/1875 [==============================] - 7s 3ms/step - loss: 0.1200 - accuracy: 0.9652\n",
            "Epoch 12/20\n",
            "1875/1875 [==============================] - 7s 4ms/step - loss: 0.1122 - accuracy: 0.9678\n",
            "Epoch 13/20\n",
            "1875/1875 [==============================] - 6s 3ms/step - loss: 0.1057 - accuracy: 0.9693\n",
            "Epoch 14/20\n",
            "1875/1875 [==============================] - 8s 4ms/step - loss: 0.1006 - accuracy: 0.9701\n",
            "Epoch 15/20\n",
            "1875/1875 [==============================] - 6s 3ms/step - loss: 0.0961 - accuracy: 0.9721\n",
            "Epoch 16/20\n",
            "1875/1875 [==============================] - 8s 4ms/step - loss: 0.0924 - accuracy: 0.9727\n",
            "Epoch 17/20\n",
            "1875/1875 [==============================] - 6s 3ms/step - loss: 0.0887 - accuracy: 0.9744\n",
            "Epoch 18/20\n",
            "1875/1875 [==============================] - 7s 4ms/step - loss: 0.0860 - accuracy: 0.9746\n",
            "Epoch 19/20\n",
            "1875/1875 [==============================] - 6s 3ms/step - loss: 0.0832 - accuracy: 0.9757\n",
            "Epoch 20/20\n",
            "1875/1875 [==============================] - 7s 4ms/step - loss: 0.0806 - accuracy: 0.9765\n"
          ]
        }
      ]
    },
    {
      "cell_type": "code",
      "source": [
        "# Seeing how the model does on a single example in the test set\n",
        "# Taking look at a random image\n",
        "random_index = np.random.randint(low=0,high=testing_data[0].shape[0],size=1,dtype=int) # Getting a random index\n",
        "random_example = np.squeeze(testing_data[0][random_index],axis=0) # Getting the random example\n",
        "\n",
        "# Plotting the image\n",
        "plt.imshow(random_example)\n",
        "print(f'Image Label: {testing_data[1][random_index][0]}')\n",
        "plt.show()"
      ],
      "metadata": {
        "colab": {
          "base_uri": "https://localhost:8080/",
          "height": 448
        },
        "id": "G4Cue-r2p0PT",
        "outputId": "7a0c6b40-8c68-46a0-ec8b-a88a0413dbe6"
      },
      "execution_count": 59,
      "outputs": [
        {
          "output_type": "stream",
          "name": "stdout",
          "text": [
            "Image Label: 6\n"
          ]
        },
        {
          "output_type": "display_data",
          "data": {
            "text/plain": [
              "<Figure size 640x480 with 1 Axes>"
            ],
            "image/png": "[encoded data removed]"
          },
          "metadata": {}
        }
      ]
    },
    {
      "cell_type": "code",
      "source": [
        "# Making prediction on test example\n",
        "prediction = model.predict(random_example.reshape(1,28,28,1))\n",
        "print(f'Actual: {testing_data[1][random_index][0]}')\n",
        "print(f'Model Prediction: {np.argmax(prediction)}')"
      ],
      "metadata": {
        "colab": {
          "base_uri": "https://localhost:8080/"
        },
        "id": "NTAeCgmgp41z",
        "outputId": "632f2ddd-f53e-4e48-9e4f-51efd3b4070d"
      },
      "execution_count": 60,
      "outputs": [
        {
          "output_type": "stream",
          "name": "stderr",
          "text": [
            "WARNING:tensorflow:5 out of the last 8 calls to <function Model.make_predict_function.<locals>.predict_function at 0x7abfc1250a60> triggered tf.function retracing. Tracing is expensive and the excessive number of tracings could be due to (1) creating @tf.function repeatedly in a loop, (2) passing tensors with different shapes, (3) passing Python objects instead of tensors. For (1), please define your @tf.function outside of the loop. For (2), @tf.function has reduce_retracing=True option that can avoid unnecessary retracing. For (3), please refer to https://www.tensorflow.org/guide/function#controlling_retracing and https://www.tensorflow.org/api_docs/python/tf/function for  more details.\n"
          ]
        },
        {
          "output_type": "stream",
          "name": "stdout",
          "text": [
            "1/1 [==============================] - 0s 82ms/step\n",
            "Actual: 6\n",
            "Model Prediction: 6\n"
          ]
        }
      ]
    },
    {
      "cell_type": "code",
      "source": [
        "image_path = '/content/drive/MyDrive/num8.PNG'\n",
        "handwritten_image = cv2.imread(image_path,0)\n",
        "plt.imshow(handwritten_image)\n",
        "plt.show()"
      ],
      "metadata": {
        "colab": {
          "base_uri": "https://localhost:8080/",
          "height": 435
        },
        "id": "iH8wnCMhzdAn",
        "outputId": "b4d2c04f-91c0-4e21-8c9b-ffba4c778a84"
      },
      "execution_count": 89,
      "outputs": [
        {
          "output_type": "display_data",
          "data": {
            "text/plain": [
              "<Figure size 640x480 with 1 Axes>"
            ],
            "image/png": "[encoded data removed]"
          },
          "metadata": {}
        }
      ]
    },
    {
      "cell_type": "code",
      "source": [
        "handwritten_image = cv2.resize(handwritten_image,(28,28))\n",
        "plt.imshow(handwritten_image,cmap='gray')\n",
        "plt.show()"
      ],
      "metadata": {
        "colab": {
          "base_uri": "https://localhost:8080/",
          "height": 430
        },
        "id": "8rSF7kpEzdIc",
        "outputId": "2a167c43-d6f9-45cd-e5d9-7e86b566b88e"
      },
      "execution_count": 90,
      "outputs": [
        {
          "output_type": "display_data",
          "data": {
            "text/plain": [
              "<Figure size 640x480 with 1 Axes>"
            ],
            "image/png": "[encoded data removed]"
          },
          "metadata": {}
        }
      ]
    },
    {
      "cell_type": "code",
      "source": [
        "handwritten_image_array=np.array(handwritten_image)\n",
        "handwritten_image_array=handwritten_image_array.astype('float32')\n",
        "handwritten_image_array=handwritten_image_array / 255.0\n",
        "handwritten_image_array=handwritten_image_array.reshape(1,28,28,1)\n",
        "handwritten_image_array.shape"
      ],
      "metadata": {
        "colab": {
          "base_uri": "https://localhost:8080/"
        },
        "id": "-vQp8DwazdP7",
        "outputId": "412cce57-909d-48fb-da4e-2336889eac0f"
      },
      "execution_count": 91,
      "outputs": [
        {
          "output_type": "execute_result",
          "data": {
            "text/plain": [
              "(1, 28, 28, 1)"
            ]
          },
          "metadata": {},
          "execution_count": 91
        }
      ]
    },
    {
      "cell_type": "code",
      "source": [
        "prediction = model.predict(handwritten_image_array)\n",
        "print(f'Actual: {8}')\n",
        "print(f'Model Prediction: {np.argmax(prediction)}')"
      ],
      "metadata": {
        "colab": {
          "base_uri": "https://localhost:8080/"
        },
        "id": "TApRlKC8zdWo",
        "outputId": "ff44c04f-081c-4ab0-c92d-0e0d8de69b83"
      },
      "execution_count": 92,
      "outputs": [
        {
          "output_type": "stream",
          "name": "stdout",
          "text": [
            "1/1 [==============================] - 0s 23ms/step\n",
            "Actual: 8\n",
            "Model Prediction: 8\n"
          ]
        }
      ]
    }
  ]
}